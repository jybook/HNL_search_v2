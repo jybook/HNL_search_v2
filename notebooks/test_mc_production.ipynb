{
 "cells": [
  {
   "cell_type": "markdown",
   "metadata": {},
   "source": [
    "## Description\n",
    "\n",
    "Short notebook to check how the generation/processing is going. Reads in all hdf5 files of a certain simulation set for all levels and checks the number of events. Then some distributions are plotted and stored. This should help to check everything before production."
   ]
  },
  {
   "cell_type": "code",
   "execution_count": 1,
   "metadata": {},
   "outputs": [
    {
     "name": "stdout",
     "output_type": "stream",
     "text": [
      "/data/user/lfischer/plots_all/2022/12_test_mc_production\n"
     ]
    }
   ],
   "source": [
    "import glob\n",
    "import os\n",
    "from icecube.LeptonInjector import hdf5_to_feather\n",
    "\n",
    "from collections import OrderedDict\n",
    "\n",
    "import numpy as np\n",
    "\n",
    "import matplotlib.pyplot as plt\n",
    "\n",
    "style_file = os.path.expandvars('$I3_SRC/LeptonInjector/python/hnl_mpl_plotstyle.mplstyle')\n",
    "plt.style.use(style_file)\n",
    "\n",
    "base_plot_dir = '/data/user/lfischer/plots_all/2022/12_test_mc_production'\n",
    "print(base_plot_dir)"
   ]
  },
  {
   "cell_type": "markdown",
   "metadata": {},
   "source": [
    "### Read in HDF5 files of each level"
   ]
  },
  {
   "cell_type": "code",
   "execution_count": 2,
   "metadata": {},
   "outputs": [],
   "source": [
    "# define base path for this set\n",
    "sim_base_dir = '/data/ana/BSM/HNL/MC/190608'  # should work for any set\n",
    "\n",
    "levels = [\n",
    "    'Gen',\n",
    "    'Phot',\n",
    "    'Det',\n",
    "    'L1',\n",
    "    'L2',\n",
    "    'L3',\n",
    "    'L4',\n",
    "    'L5',\n",
    "    'L6',\n",
    "    'L7',\n",
    "    'L8',\n",
    "]\n",
    "\n",
    "# dict for infilepaths\n",
    "infiles = OrderedDict(zip(levels, [list() for level in levels]))"
   ]
  },
  {
   "cell_type": "code",
   "execution_count": 3,
   "metadata": {},
   "outputs": [],
   "source": [
    "# get the infilepaths\n",
    "for key, item in infiles.items():\n",
    "#     print(key)\n",
    "    \n",
    "    item.extend(\n",
    "        glob.glob(os.path.join(sim_base_dir, '{}/*/*.hdf5'.format(key)))  # for Gen/Phot\n",
    "    )\n",
    "    item.extend(\n",
    "        glob.glob(os.path.join(sim_base_dir, '{}/*/*/*.hdf5'.format(key)))  # for Det/L1/L2/L3/L4/L5\n",
    "    )\n",
    "    \n",
    "#     print(item)\n",
    "#     break\n",
    "\n",
    "# print(infiles)"
   ]
  },
  {
   "cell_type": "code",
   "execution_count": 4,
   "metadata": {},
   "outputs": [],
   "source": [
    "# define keys to extract (at L3 the HDF5 writer also extracts other objects)\n",
    "\n",
    "keys_to_extract = [\n",
    "#     # EventProperties\n",
    "#     \"decay_channel\",\n",
    "#     \"distance\",\n",
    "#     \"distanceMax\",\n",
    "#     \"distanceMin\",\n",
    "#     \"finalStateX\",\n",
    "#     \"finalStateY\",\n",
    "#     \"final_state_particle0\",\n",
    "#     \"final_state_particle1\",\n",
    "#     \"primary_type\",\n",
    "#     \"lifetime\",\n",
    "#     \"mHNL\",\n",
    "#     \"outgoing_neutrino_energy\",\n",
    "#     \"totalEnergy\",\n",
    "#     \"physical\",\n",
    "#     \"total_column_depth\",\n",
    "#     # I3MCTree\n",
    "#     # true HNL variables\n",
    "#     \"HNL_true_x\",\n",
    "#     \"HNL_true_y\",\n",
    "#     \"HNL_true_z\",\n",
    "#     \"HNL_true_energy\",\n",
    "#     \"HNL_true_zenith\",\n",
    "#     \"HNL_true_azimuth\",\n",
    "#     \"HNL_true_time\",\n",
    "#     # true primary variables\n",
    "#     \"true_x\",\n",
    "#     \"true_y\",\n",
    "#     \"true_z\",\n",
    "#     \"true_energy\",\n",
    "#     \"true_zenith\",\n",
    "#     \"true_azimuth\",\n",
    "#     \"true_time\",\n",
    "#     # true first (DIS) cascade variables\n",
    "#     \"casc0_true_x\",\n",
    "#     \"casc0_true_y\",\n",
    "#     \"casc0_true_z\",\n",
    "#     \"casc0_true_energy\",\n",
    "#     \"casc0_true_zenith\",\n",
    "#     \"casc0_true_azimuth\",\n",
    "#     \"casc0_true_time\",\n",
    "#     # true second (HNL decay) cascade variables\n",
    "#     \"casc1_true_x\",\n",
    "#     \"casc1_true_y\",\n",
    "#     \"casc1_true_z\",\n",
    "#     \"casc1_true_energy\",\n",
    "#     \"casc1_true_zenith\",\n",
    "#     \"casc1_true_azimuth\",\n",
    "#     \"casc1_true_time\",\n",
    "#     \"nan_decay_energy\",\n",
    "#     # weights\n",
    "#     \"LeptonInjectorWeight\",\n",
    "#     \"LifetimeWeight_1e-03\",\n",
    "#     \"OneWeight\",\n",
    "    \n",
    " #   \"ReferenceWeight_1e-03\",\n",
    "]"
   ]
  },
  {
   "cell_type": "code",
   "execution_count": 5,
   "metadata": {
    "scrolled": true
   },
   "outputs": [
    {
     "name": "stderr",
     "output_type": "stream",
     "text": [
      "INFO:root:Keys to be extracted: ['ReferenceWeight_1e-03']\n"
     ]
    },
    {
     "name": "stdout",
     "output_type": "stream",
     "text": [
      "Gen\n"
     ]
    },
    {
     "name": "stderr",
     "output_type": "stream",
     "text": [
      "100%|██████████| 1/1 [00:00<00:00, 31.71it/s]\n",
      "INFO:root:Keys to be extracted: ['ReferenceWeight_1e-03']\n"
     ]
    },
    {
     "name": "stdout",
     "output_type": "stream",
     "text": [
      "Phot\n"
     ]
    },
    {
     "name": "stderr",
     "output_type": "stream",
     "text": [
      "100%|██████████| 1/1 [00:00<00:00, 60.30it/s]\n",
      "INFO:root:Keys to be extracted: ['ReferenceWeight_1e-03']\n"
     ]
    },
    {
     "name": "stdout",
     "output_type": "stream",
     "text": [
      "Det\n"
     ]
    },
    {
     "name": "stderr",
     "output_type": "stream",
     "text": [
      "100%|██████████| 1/1 [00:00<00:00, 223.30it/s]\n",
      "INFO:root:Keys to be extracted: ['ReferenceWeight_1e-03']\n"
     ]
    },
    {
     "name": "stdout",
     "output_type": "stream",
     "text": [
      "L1\n"
     ]
    },
    {
     "name": "stderr",
     "output_type": "stream",
     "text": [
      "100%|██████████| 1/1 [00:00<00:00, 163.58it/s]\n",
      "INFO:root:Keys to be extracted: ['ReferenceWeight_1e-03']\n"
     ]
    },
    {
     "name": "stdout",
     "output_type": "stream",
     "text": [
      "L2\n"
     ]
    },
    {
     "name": "stderr",
     "output_type": "stream",
     "text": [
      "100%|██████████| 1/1 [00:00<00:00, 157.03it/s]\n",
      "INFO:root:Keys to be extracted: ['ReferenceWeight_1e-03']\n"
     ]
    },
    {
     "name": "stdout",
     "output_type": "stream",
     "text": [
      "L3\n"
     ]
    },
    {
     "name": "stderr",
     "output_type": "stream",
     "text": [
      "100%|██████████| 1/1 [00:00<00:00, 180.44it/s]\n",
      "INFO:root:Keys to be extracted: ['ReferenceWeight_1e-03']\n"
     ]
    },
    {
     "name": "stdout",
     "output_type": "stream",
     "text": [
      "L4\n"
     ]
    },
    {
     "name": "stderr",
     "output_type": "stream",
     "text": [
      "100%|██████████| 1/1 [00:00<00:00, 202.92it/s]\n",
      "INFO:root:Keys to be extracted: ['ReferenceWeight_1e-03']\n"
     ]
    },
    {
     "name": "stdout",
     "output_type": "stream",
     "text": [
      "L5\n"
     ]
    },
    {
     "name": "stderr",
     "output_type": "stream",
     "text": [
      "100%|██████████| 1/1 [00:00<00:00, 170.50it/s]\n",
      "INFO:root:Keys to be extracted: ['ReferenceWeight_1e-03']\n"
     ]
    },
    {
     "name": "stdout",
     "output_type": "stream",
     "text": [
      "L6\n"
     ]
    },
    {
     "name": "stderr",
     "output_type": "stream",
     "text": [
      "100%|██████████| 1/1 [00:00<00:00, 153.75it/s]\n",
      "INFO:root:Keys to be extracted: ['ReferenceWeight_1e-03']\n"
     ]
    },
    {
     "name": "stdout",
     "output_type": "stream",
     "text": [
      "L7\n"
     ]
    },
    {
     "name": "stderr",
     "output_type": "stream",
     "text": [
      "0it [00:00, ?it/s]\n",
      "INFO:root:Keys to be extracted: ['ReferenceWeight_1e-03']\n"
     ]
    },
    {
     "name": "stdout",
     "output_type": "stream",
     "text": [
      "L8\n"
     ]
    },
    {
     "name": "stderr",
     "output_type": "stream",
     "text": [
      "100%|██████████| 1/1 [00:00<00:00, 141.42it/s]\n"
     ]
    }
   ],
   "source": [
    "# read in the hdffiles and store the dataframes\n",
    "level_data = OrderedDict()\n",
    "\n",
    "for key, item in infiles.items():\n",
    "    print(key)\n",
    "    \n",
    "    level_data[key] = hdf5_to_feather(item, keys=keys_to_extract)    \n",
    "    \n",
    "#     break"
   ]
  },
  {
   "cell_type": "code",
   "execution_count": 6,
   "metadata": {},
   "outputs": [
    {
     "name": "stdout",
     "output_type": "stream",
     "text": [
      "Events per level:\n",
      "Gen  : 100000\n",
      "Phot :  46684\n",
      "Det  :   1359\n",
      "L1   :   1142\n",
      "L2   :   1142\n",
      "L3   :    514\n",
      "L4   :    297\n",
      "L5   :    259\n",
      "L6   :    136\n",
      "L7   :      0\n",
      "L8   :    136\n"
     ]
    }
   ],
   "source": [
    "# Events per level\n",
    "print('Events per level:')\n",
    "for key, item in level_data.items():\n",
    "    print('{:5}: {:6}'.format(key, len(item)))"
   ]
  },
  {
   "cell_type": "code",
   "execution_count": 7,
   "metadata": {},
   "outputs": [],
   "source": [
    "# read from output/log/error files (L1, L2 process script does not count itself..)\n",
    "times = [\n",
    "    7104.56,\n",
    "    1211.7,\n",
    "    275.85,\n",
    "    212.,\n",
    "    114,\n",
    "    15.779672,\n",
    "    8.986194,\n",
    "    117.920323,\n",
    "    93.852783,\n",
    "    78.998049,\n",
    "    00.119944,\n",
    "]"
   ]
  },
  {
   "cell_type": "code",
   "execution_count": 8,
   "metadata": {},
   "outputs": [
    {
     "name": "stdout",
     "output_type": "stream",
     "text": [
      "Gen  : 7104.56s\n",
      "Phot : 1211.70s\n",
      "Det  :  275.85s\n",
      "L1   :  212.00s\n",
      "L2   :  114.00s\n",
      "L3   :   15.78s\n",
      "L4   :    8.99s\n",
      "L5   :  117.92s\n",
      "L6   :   93.85s\n",
      "L7   :   79.00s\n",
      "L8   :    0.12s\n"
     ]
    }
   ],
   "source": [
    "# Time per level\n",
    "\n",
    "for key, time in zip(level_data.keys(), times):\n",
    "    print('{:5}: {:7.2f}s'.format(key, time))"
   ]
  },
  {
   "cell_type": "markdown",
   "metadata": {},
   "source": [
    "## Plot some distributions"
   ]
  },
  {
   "cell_type": "code",
   "execution_count": 9,
   "metadata": {},
   "outputs": [],
   "source": [
    "only_plot = [\n",
    "    # EventProperties\n",
    "    \"decay_channel\",\n",
    "    \"distance\",\n",
    "#     \"distanceMax\",\n",
    "#     \"distanceMin\",\n",
    "    \"finalStateX\",\n",
    "    \"finalStateY\",\n",
    "#     \"final_state_particle0\",\n",
    "#     \"final_state_particle1\",\n",
    "#     \"primary_type\",\n",
    "    \"lifetime\",\n",
    "#     \"mHNL\",\n",
    "#     \"outgoing_neutrino_energy\",\n",
    "    \"totalEnergy\",\n",
    "    \"physical\",\n",
    "#     \"total_column_depth\",\n",
    "    # I3MCTree\n",
    "    # true HNL variables\n",
    "    \"HNL_true_x\",\n",
    "    \"HNL_true_y\",\n",
    "    \"HNL_true_z\",\n",
    "    \"HNL_true_energy\",\n",
    "    \"HNL_true_zenith\",\n",
    "    \"HNL_true_azimuth\",\n",
    "#     \"HNL_true_time\",\n",
    "    # true primary variables\n",
    "    \"true_x\",\n",
    "    \"true_y\",\n",
    "    \"true_z\",\n",
    "    \"true_energy\",\n",
    "    \"true_zenith\",\n",
    "    \"true_azimuth\",\n",
    "#     \"true_time\",\n",
    "#     # true first (DIS) cascade variables\n",
    "#     \"casc0_true_x\",\n",
    "#     \"casc0_true_y\",\n",
    "#     \"casc0_true_z\",\n",
    "#     \"casc0_true_energy\",\n",
    "#     \"casc0_true_zenith\",\n",
    "#     \"casc0_true_azimuth\",\n",
    "#     \"casc0_true_time\",\n",
    "#     # true second (HNL decay) cascade variables\n",
    "#     \"casc1_true_x\",\n",
    "#     \"casc1_true_y\",\n",
    "#     \"casc1_true_z\",\n",
    "#     \"casc1_true_energy\",\n",
    "#     \"casc1_true_zenith\",\n",
    "#     \"casc1_true_azimuth\",\n",
    "#     \"casc1_true_time\",\n",
    "#     \"nan_decay_energy\",\n",
    "#     # weights\n",
    "#     \"LeptonInjectorWeight\",\n",
    "#     \"LifetimeWeight_1e-03\",\n",
    "#     \"OneWeight\",\n",
    "#     \"ReferenceWeight_1e-03\",\n",
    "]"
   ]
  },
  {
   "cell_type": "code",
   "execution_count": 10,
   "metadata": {},
   "outputs": [],
   "source": [
    "# set plot bins\n",
    "plot_bins = dict()\n",
    "\n",
    "plot_bins[\"decay_channel\"] = np.linspace(0, 8, 9)\n",
    "plot_bins[\"distance\"] = np.linspace(0, 1e05, 50)\n",
    "\n",
    "plot_bins[\"finalStateX\"] = np.linspace(0, 1, 50)\n",
    "plot_bins[\"finalStateY\"] = np.linspace(0, 1, 50)\n",
    "\n",
    "plot_bins[\"lifetime\"] = np.linspace(0, 16, 50)\n",
    "plot_bins[\"totalEnergy\"] = np.linspace(0, 1e04, 50)\n",
    "plot_bins[\"physical\"] = np.linspace(0, 2, 3)\n",
    "\n",
    "plot_bins[\"HNL_true_x\"] = np.linspace(-600, 600, 50)\n",
    "plot_bins[\"HNL_true_y\"] = np.linspace(-600, 600, 50)\n",
    "plot_bins[\"HNL_true_z\"] = np.linspace(-600, 0, 50)\n",
    "\n",
    "plot_bins[\"HNL_true_energy\"] = np.linspace(0, 6e03, 50)\n",
    "plot_bins[\"HNL_true_zenith\"] = np.linspace(0, np.pi, 50)\n",
    "plot_bins[\"HNL_true_azimuth\"] = np.linspace(0, 2*np.pi, 50)\n",
    "\n",
    "plot_bins[\"true_x\"] = np.linspace(-600, 600, 50)\n",
    "plot_bins[\"true_y\"] = np.linspace(-600, 600, 50)\n",
    "plot_bins[\"true_z\"] = np.linspace(-600, 0, 50)\n",
    "\n",
    "plot_bins[\"true_energy\"] = np.linspace(0, 1e04, 50)\n",
    "plot_bins[\"true_zenith\"] = np.linspace(0, np.pi, 50)\n",
    "plot_bins[\"true_azimuth\"] = np.linspace(0, 2*np.pi, 50)"
   ]
  },
  {
   "cell_type": "code",
   "execution_count": 11,
   "metadata": {},
   "outputs": [],
   "source": [
    "for key in keys_to_extract:\n",
    "    \n",
    "    if not key in only_plot:continue    \n",
    "#     print(key)\n",
    "    \n",
    "    fig, ax = plt.subplots(figsize=(10,8))\n",
    "    \n",
    "    for level, item in level_data.items():\n",
    "               \n",
    "        data = item[key]\n",
    "\n",
    "        not_nan = ~np.isnan(data)\n",
    "        if sum(~not_nan):\n",
    "            print('Number of events with Nan value: {}'.format(sum(~not_nan)))\n",
    "\n",
    "        if key in plot_bins:\n",
    "            n,b,p = ax.hist(\n",
    "                data[not_nan],\n",
    "                bins=plot_bins[key],\n",
    "                lw=2.,\n",
    "                histtype='step',\n",
    "                label=level,\n",
    "                )\n",
    "        else:\n",
    "            n,b,p = ax.hist(\n",
    "                data[not_nan],\n",
    "                bins=50,\n",
    "                lw=2.,\n",
    "                histtype='step',\n",
    "                label=level,\n",
    "                )\n",
    "            \n",
    "        first_set = False\n",
    "        break\n",
    "\n",
    "        \n",
    "    ax.set_xlabel(key)\n",
    "    ax.set_yscale('log')\n",
    "    \n",
    "    ax.legend()\n",
    "    \n",
    "#     plot_name = '{}_190608_check_processing.png'.format(key)\n",
    "    plot_name = '{}_190608_Gen_check_processing.png'.format(key)\n",
    "    \n",
    "    plot_path = os.path.join(base_plot_dir, plot_name)\n",
    "    \n",
    "    print(plot_path)\n",
    "#     fig.savefig(plot_path, dpi=300)\n",
    "    \n",
    "#     break"
   ]
  }
 ],
 "metadata": {
  "kernelspec": {
   "display_name": "Python 3",
   "language": "python",
   "name": "python3"
  },
  "language_info": {
   "codemirror_mode": {
    "name": "ipython",
    "version": 3
   },
   "file_extension": ".py",
   "mimetype": "text/x-python",
   "name": "python",
   "nbconvert_exporter": "python",
   "pygments_lexer": "ipython3",
   "version": "3.8.8"
  }
 },
 "nbformat": 4,
 "nbformat_minor": 2
}
